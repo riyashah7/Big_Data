{
  "nbformat": 4,
  "nbformat_minor": 0,
  "metadata": {
    "colab": {
      "name": "Untitled0.ipynb",
      "provenance": [],
      "authorship_tag": "ABX9TyOB2q0mjPwmC00Fdf5Y6ol1",
      "include_colab_link": true
    },
    "kernelspec": {
      "name": "python3",
      "display_name": "Python 3"
    }
  },
  "cells": [
    {
      "cell_type": "markdown",
      "metadata": {
        "id": "view-in-github",
        "colab_type": "text"
      },
      "source": [
        "<a href=\"https://colab.research.google.com/github/riyashah7/Big_Data/blob/master/Spark_1.ipynb\" target=\"_parent\"><img src=\"https://colab.research.google.com/assets/colab-badge.svg\" alt=\"Open In Colab\"/></a>"
      ]
    },
    {
      "cell_type": "code",
      "metadata": {
        "id": "oIexQQ3ftjH5",
        "colab_type": "code",
        "colab": {
          "base_uri": "https://localhost:8080/",
          "height": 136
        },
        "outputId": "0182d349-4ff7-4161-f26e-4af80ea7e060"
      },
      "source": [
        "! ssh"
      ],
      "execution_count": 2,
      "outputs": [
        {
          "output_type": "stream",
          "text": [
            "usage: ssh [-46AaCfGgKkMNnqsTtVvXxYy] [-b bind_address] [-c cipher_spec]\n",
            "           [-D [bind_address:]port] [-E log_file] [-e escape_char]\n",
            "           [-F configfile] [-I pkcs11] [-i identity_file]\n",
            "           [-J [user@]host[:port]] [-L address] [-l login_name] [-m mac_spec]\n",
            "           [-O ctl_cmd] [-o option] [-p port] [-Q query_option] [-R address]\n",
            "           [-S ctl_path] [-W host:port] [-w local_tun[:remote_tun]]\n",
            "           [user@]hostname [command]\n"
          ],
          "name": "stdout"
        }
      ]
    },
    {
      "cell_type": "code",
      "metadata": {
        "id": "9xQLYeTntu8s",
        "colab_type": "code",
        "colab": {
          "base_uri": "https://localhost:8080/",
          "height": 306
        },
        "outputId": "d86b9884-5a88-4c79-dfba-a7c842a1aee9"
      },
      "source": [
        "! wget -p data/ http://deepyeti.ucsd.edu/jianmo/amazon/metaFiles/meta_Arts_Crafts_and_Sewing.json.gz"
      ],
      "execution_count": 3,
      "outputs": [
        {
          "output_type": "stream",
          "text": [
            "--2020-01-29 00:34:12--  http://data/\n",
            "Resolving data (data)... failed: No address associated with hostname.\n",
            "wget: unable to resolve host address ‘data’\n",
            "--2020-01-29 00:34:12--  http://deepyeti.ucsd.edu/jianmo/amazon/metaFiles/meta_Arts_Crafts_and_Sewing.json.gz\n",
            "Resolving deepyeti.ucsd.edu (deepyeti.ucsd.edu)... 169.228.63.50\n",
            "Connecting to deepyeti.ucsd.edu (deepyeti.ucsd.edu)|169.228.63.50|:80... connected.\n",
            "HTTP request sent, awaiting response... 200 OK\n",
            "Length: 189745575 (181M) [application/octet-stream]\n",
            "Saving to: ‘deepyeti.ucsd.edu/jianmo/amazon/metaFiles/meta_Arts_Crafts_and_Sewing.json.gz’\n",
            "\n",
            "deepyeti.ucsd.edu/j 100%[===================>] 180.96M   291KB/s    in 10m 25s \n",
            "\n",
            "2020-01-29 00:44:38 (297 KB/s) - ‘deepyeti.ucsd.edu/jianmo/amazon/metaFiles/meta_Arts_Crafts_and_Sewing.json.gz’ saved [189745575/189745575]\n",
            "\n",
            "FINISHED --2020-01-29 00:44:38--\n",
            "Total wall clock time: 10m 26s\n",
            "Downloaded: 1 files, 181M in 10m 25s (297 KB/s)\n"
          ],
          "name": "stdout"
        }
      ]
    },
    {
      "cell_type": "code",
      "metadata": {
        "id": "w53DUCpquEcE",
        "colab_type": "code",
        "colab": {}
      },
      "source": [
        ""
      ],
      "execution_count": 0,
      "outputs": []
    }
  ]
}